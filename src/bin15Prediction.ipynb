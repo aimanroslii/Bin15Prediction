{
 "cells": [
  {
   "cell_type": "code",
   "execution_count": 294,
   "metadata": {},
   "outputs": [],
   "source": [
    "#data analysis and wrangling\n",
    "import pandas as pd\n",
    "import numpy as np\n",
    "import random as rnd\n",
    "import sklearn\n",
    "\n",
    "#visualization\n",
    "import seaborn as sns\n",
    "import matplotlib.pyplot as plt\n",
    "\n",
    "#machine learning\n",
    "from sklearn.linear_model import LogisticRegression\n",
    "from sklearn.svm import SVC, LinearSVC\n",
    "from sklearn.ensemble import RandomForestClassifier\n",
    "from sklearn.neighbors import KNeighborsClassifier\n",
    "from sklearn.naive_bayes import GaussianNB\n",
    "from sklearn.linear_model import Perceptron\n",
    "from sklearn.linear_model import SGDClassifier\n",
    "from sklearn.tree import DecisionTreeClassifier"
   ]
  },
  {
   "cell_type": "code",
   "execution_count": 295,
   "metadata": {},
   "outputs": [],
   "source": [
    "#Acquire data\n",
    "train_df = pd.read_csv('../Data/train_data.csv')\n",
    "test_df = pd.read_csv('../Data/test_data.csv')\n",
    "\n",
    "combine = [train_df, test_df]"
   ]
  },
  {
   "cell_type": "code",
   "execution_count": 296,
   "metadata": {},
   "outputs": [
    {
     "name": "stdout",
     "output_type": "stream",
     "text": [
      "['Supplier' 'Fab Plant' 'Fab WW' 'Wafer Coat Tool' 'Wafer Coat MT'\n",
      " 'Wafer Coat Flux Lot' 'Wafer Coat Thickness Mean' '% Bin 15' 'Unnamed: 8'\n",
      " 'Unnamed: 9' 'Unnamed: 10' 'Unnamed: 11' 'Unnamed: 12' 'Unnamed: 13'\n",
      " 'Unnamed: 14' 'Unnamed: 15' 'Unnamed: 16' 'Unnamed: 17']\n"
     ]
    }
   ],
   "source": [
    "print(train_df.columns.values)"
   ]
  },
  {
   "cell_type": "code",
   "execution_count": 297,
   "metadata": {},
   "outputs": [],
   "source": [
    "train_df = train_df.drop(\"Unnamed: 8\", axis=1)\n",
    "train_df = train_df.drop(\"Unnamed: 9\", axis=1)\n",
    "train_df = train_df.drop(\"Unnamed: 10\", axis=1)\n",
    "train_df = train_df.drop(\"Unnamed: 11\", axis=1)\n",
    "train_df = train_df.drop(\"Unnamed: 12\", axis=1)\n",
    "train_df = train_df.drop(\"Unnamed: 13\", axis=1)\n",
    "train_df = train_df.drop(\"Unnamed: 14\", axis=1)\n",
    "train_df = train_df.drop(\"Unnamed: 15\", axis=1)\n",
    "train_df = train_df.drop(\"Unnamed: 16\", axis=1)\n",
    "train_df = train_df.drop(\"Unnamed: 17\", axis=1)\n",
    "train_df = train_df.drop(\"Fab WW\", axis=1)\n",
    "train_df = train_df.drop(\"Wafer Coat MT\", axis=1)"
   ]
  },
  {
   "cell_type": "code",
   "execution_count": 298,
   "metadata": {},
   "outputs": [
    {
     "name": "stdout",
     "output_type": "stream",
     "text": [
      "['Supplier' 'Fab Plant' 'Wafer Coat Tool' 'Wafer Coat Flux Lot'\n",
      " 'Wafer Coat Thickness Mean' '% Bin 15']\n"
     ]
    }
   ],
   "source": [
    "print(train_df.columns.values)"
   ]
  },
  {
   "cell_type": "code",
   "execution_count": 299,
   "metadata": {},
   "outputs": [],
   "source": [
    "test_df = test_df.drop(\"Unnamed: 9\", axis=1)\n",
    "test_df = test_df.drop(\"Unnamed: 10\", axis=1)\n",
    "test_df = test_df.drop(\"Unnamed: 11\", axis=1)\n",
    "test_df = test_df.drop(\"Unnamed: 12\", axis=1)\n",
    "test_df = test_df.drop(\"Unnamed: 13\", axis=1)\n",
    "test_df = test_df.drop(\"Unnamed: 14\", axis=1)\n",
    "test_df = test_df.drop(\"Unnamed: 15\", axis=1)\n",
    "test_df = test_df.drop(\"Unnamed: 16\", axis=1)\n",
    "test_df = test_df.drop(\"Unnamed: 17\", axis=1)\n",
    "test_df = test_df.drop(\"Unnamed: 8\", axis=1)\n",
    "test_df = test_df.drop(\"Fab WW\", axis=1)\n",
    "test_df = test_df.drop(\"Wafer Coat MT\", axis=1)"
   ]
  },
  {
   "cell_type": "code",
   "execution_count": 300,
   "metadata": {},
   "outputs": [
    {
     "name": "stdout",
     "output_type": "stream",
     "text": [
      "['Supplier' 'Fab Plant' 'Wafer Coat Tool' 'Wafer Coat Flux Lot'\n",
      " 'Wafer Coat Thickness Mean' '% Bin 15']\n"
     ]
    }
   ],
   "source": [
    "print(test_df.columns.values)"
   ]
  },
  {
   "cell_type": "code",
   "execution_count": 301,
   "metadata": {},
   "outputs": [
    {
     "data": {
      "text/html": [
       "<div>\n",
       "<style scoped>\n",
       "    .dataframe tbody tr th:only-of-type {\n",
       "        vertical-align: middle;\n",
       "    }\n",
       "\n",
       "    .dataframe tbody tr th {\n",
       "        vertical-align: top;\n",
       "    }\n",
       "\n",
       "    .dataframe thead th {\n",
       "        text-align: right;\n",
       "    }\n",
       "</style>\n",
       "<table border=\"1\" class=\"dataframe\">\n",
       "  <thead>\n",
       "    <tr style=\"text-align: right;\">\n",
       "      <th></th>\n",
       "      <th>Supplier</th>\n",
       "      <th>Fab Plant</th>\n",
       "      <th>Wafer Coat Tool</th>\n",
       "      <th>Wafer Coat Flux Lot</th>\n",
       "      <th>Wafer Coat Thickness Mean</th>\n",
       "      <th>% Bin 15</th>\n",
       "    </tr>\n",
       "  </thead>\n",
       "  <tbody>\n",
       "    <tr>\n",
       "      <th>0</th>\n",
       "      <td>Supp1</td>\n",
       "      <td>Fab 3</td>\n",
       "      <td>WC 2</td>\n",
       "      <td>1603222</td>\n",
       "      <td>110.3</td>\n",
       "      <td>2.48</td>\n",
       "    </tr>\n",
       "    <tr>\n",
       "      <th>1</th>\n",
       "      <td>Supp1</td>\n",
       "      <td>Fab 3</td>\n",
       "      <td>WC 2</td>\n",
       "      <td>1603111</td>\n",
       "      <td>95.8</td>\n",
       "      <td>2.02</td>\n",
       "    </tr>\n",
       "    <tr>\n",
       "      <th>2</th>\n",
       "      <td>Supp1</td>\n",
       "      <td>Fab 3</td>\n",
       "      <td>WC 3</td>\n",
       "      <td>1603222</td>\n",
       "      <td>102.4</td>\n",
       "      <td>2.27</td>\n",
       "    </tr>\n",
       "    <tr>\n",
       "      <th>3</th>\n",
       "      <td>Supp1</td>\n",
       "      <td>Fab 3</td>\n",
       "      <td>WC 2</td>\n",
       "      <td>1603222</td>\n",
       "      <td>95.2</td>\n",
       "      <td>1.99</td>\n",
       "    </tr>\n",
       "    <tr>\n",
       "      <th>4</th>\n",
       "      <td>Supp1</td>\n",
       "      <td>Fab 3</td>\n",
       "      <td>WC 2</td>\n",
       "      <td>1603222</td>\n",
       "      <td>107.6</td>\n",
       "      <td>2.74</td>\n",
       "    </tr>\n",
       "  </tbody>\n",
       "</table>\n",
       "</div>"
      ],
      "text/plain": [
       "  Supplier Fab Plant Wafer Coat Tool  Wafer Coat Flux Lot  \\\n",
       "0    Supp1     Fab 3            WC 2              1603222   \n",
       "1    Supp1     Fab 3            WC 2              1603111   \n",
       "2    Supp1     Fab 3            WC 3              1603222   \n",
       "3    Supp1     Fab 3            WC 2              1603222   \n",
       "4    Supp1     Fab 3            WC 2              1603222   \n",
       "\n",
       "   Wafer Coat Thickness Mean  % Bin 15  \n",
       "0                      110.3      2.48  \n",
       "1                       95.8      2.02  \n",
       "2                      102.4      2.27  \n",
       "3                       95.2      1.99  \n",
       "4                      107.6      2.74  "
      ]
     },
     "execution_count": 301,
     "metadata": {},
     "output_type": "execute_result"
    }
   ],
   "source": [
    "train_df.head()"
   ]
  },
  {
   "cell_type": "code",
   "execution_count": 302,
   "metadata": {},
   "outputs": [
    {
     "data": {
      "text/html": [
       "<div>\n",
       "<style scoped>\n",
       "    .dataframe tbody tr th:only-of-type {\n",
       "        vertical-align: middle;\n",
       "    }\n",
       "\n",
       "    .dataframe tbody tr th {\n",
       "        vertical-align: top;\n",
       "    }\n",
       "\n",
       "    .dataframe thead th {\n",
       "        text-align: right;\n",
       "    }\n",
       "</style>\n",
       "<table border=\"1\" class=\"dataframe\">\n",
       "  <thead>\n",
       "    <tr style=\"text-align: right;\">\n",
       "      <th></th>\n",
       "      <th>Supplier</th>\n",
       "      <th>Fab Plant</th>\n",
       "      <th>Wafer Coat Tool</th>\n",
       "      <th>Wafer Coat Flux Lot</th>\n",
       "      <th>Wafer Coat Thickness Mean</th>\n",
       "      <th>% Bin 15</th>\n",
       "    </tr>\n",
       "  </thead>\n",
       "  <tbody>\n",
       "    <tr>\n",
       "      <th>1208</th>\n",
       "      <td>Supp2</td>\n",
       "      <td>Fab 3</td>\n",
       "      <td>WC 2</td>\n",
       "      <td>1603222</td>\n",
       "      <td>95.6</td>\n",
       "      <td>2.92</td>\n",
       "    </tr>\n",
       "    <tr>\n",
       "      <th>1209</th>\n",
       "      <td>Supp2</td>\n",
       "      <td>Fab 3</td>\n",
       "      <td>WC 1</td>\n",
       "      <td>1603222</td>\n",
       "      <td>92.0</td>\n",
       "      <td>2.11</td>\n",
       "    </tr>\n",
       "    <tr>\n",
       "      <th>1210</th>\n",
       "      <td>Supp2</td>\n",
       "      <td>Fab 3</td>\n",
       "      <td>WC 1</td>\n",
       "      <td>1603222</td>\n",
       "      <td>94.2</td>\n",
       "      <td>1.86</td>\n",
       "    </tr>\n",
       "    <tr>\n",
       "      <th>1211</th>\n",
       "      <td>Supp2</td>\n",
       "      <td>Fab 3</td>\n",
       "      <td>WC 2</td>\n",
       "      <td>1603333</td>\n",
       "      <td>107.7</td>\n",
       "      <td>0.00</td>\n",
       "    </tr>\n",
       "    <tr>\n",
       "      <th>1212</th>\n",
       "      <td>Supp2</td>\n",
       "      <td>Fab 3</td>\n",
       "      <td>WC 2</td>\n",
       "      <td>1603222</td>\n",
       "      <td>109.7</td>\n",
       "      <td>1.76</td>\n",
       "    </tr>\n",
       "  </tbody>\n",
       "</table>\n",
       "</div>"
      ],
      "text/plain": [
       "     Supplier Fab Plant Wafer Coat Tool  Wafer Coat Flux Lot  \\\n",
       "1208    Supp2     Fab 3            WC 2              1603222   \n",
       "1209    Supp2     Fab 3            WC 1              1603222   \n",
       "1210    Supp2     Fab 3            WC 1              1603222   \n",
       "1211    Supp2     Fab 3            WC 2              1603333   \n",
       "1212    Supp2     Fab 3            WC 2              1603222   \n",
       "\n",
       "      Wafer Coat Thickness Mean  % Bin 15  \n",
       "1208                       95.6      2.92  \n",
       "1209                       92.0      2.11  \n",
       "1210                       94.2      1.86  \n",
       "1211                      107.7      0.00  \n",
       "1212                      109.7      1.76  "
      ]
     },
     "execution_count": 302,
     "metadata": {},
     "output_type": "execute_result"
    }
   ],
   "source": [
    "train_df.tail()"
   ]
  },
  {
   "cell_type": "code",
   "execution_count": 303,
   "metadata": {},
   "outputs": [
    {
     "name": "stdout",
     "output_type": "stream",
     "text": [
      "<class 'pandas.core.frame.DataFrame'>\n",
      "RangeIndex: 1213 entries, 0 to 1212\n",
      "Data columns (total 6 columns):\n",
      " #   Column                     Non-Null Count  Dtype  \n",
      "---  ------                     --------------  -----  \n",
      " 0   Supplier                   1213 non-null   object \n",
      " 1   Fab Plant                  1213 non-null   object \n",
      " 2   Wafer Coat Tool            1213 non-null   object \n",
      " 3   Wafer Coat Flux Lot        1213 non-null   int64  \n",
      " 4   Wafer Coat Thickness Mean  1213 non-null   float64\n",
      " 5   % Bin 15                   1213 non-null   float64\n",
      "dtypes: float64(2), int64(1), object(3)\n",
      "memory usage: 57.0+ KB\n",
      "________________________________________\n",
      "<class 'pandas.core.frame.DataFrame'>\n",
      "RangeIndex: 523 entries, 0 to 522\n",
      "Data columns (total 6 columns):\n",
      " #   Column                     Non-Null Count  Dtype  \n",
      "---  ------                     --------------  -----  \n",
      " 0   Supplier                   523 non-null    object \n",
      " 1   Fab Plant                  523 non-null    object \n",
      " 2   Wafer Coat Tool            523 non-null    object \n",
      " 3   Wafer Coat Flux Lot        523 non-null    int64  \n",
      " 4   Wafer Coat Thickness Mean  523 non-null    float64\n",
      " 5   % Bin 15                   523 non-null    float64\n",
      "dtypes: float64(2), int64(1), object(3)\n",
      "memory usage: 24.6+ KB\n"
     ]
    }
   ],
   "source": [
    "train_df.info()\n",
    "print('_'*40)\n",
    "test_df.info()"
   ]
  },
  {
   "cell_type": "code",
   "execution_count": 304,
   "metadata": {},
   "outputs": [
    {
     "data": {
      "text/html": [
       "<div>\n",
       "<style scoped>\n",
       "    .dataframe tbody tr th:only-of-type {\n",
       "        vertical-align: middle;\n",
       "    }\n",
       "\n",
       "    .dataframe tbody tr th {\n",
       "        vertical-align: top;\n",
       "    }\n",
       "\n",
       "    .dataframe thead th {\n",
       "        text-align: right;\n",
       "    }\n",
       "</style>\n",
       "<table border=\"1\" class=\"dataframe\">\n",
       "  <thead>\n",
       "    <tr style=\"text-align: right;\">\n",
       "      <th></th>\n",
       "      <th>Wafer Coat Flux Lot</th>\n",
       "      <th>Wafer Coat Thickness Mean</th>\n",
       "      <th>% Bin 15</th>\n",
       "    </tr>\n",
       "  </thead>\n",
       "  <tbody>\n",
       "    <tr>\n",
       "      <th>count</th>\n",
       "      <td>1.213000e+03</td>\n",
       "      <td>1213.000000</td>\n",
       "      <td>1213.000000</td>\n",
       "    </tr>\n",
       "    <tr>\n",
       "      <th>mean</th>\n",
       "      <td>1.603192e+06</td>\n",
       "      <td>100.351855</td>\n",
       "      <td>2.056488</td>\n",
       "    </tr>\n",
       "    <tr>\n",
       "      <th>std</th>\n",
       "      <td>5.386944e+01</td>\n",
       "      <td>10.227836</td>\n",
       "      <td>1.911395</td>\n",
       "    </tr>\n",
       "    <tr>\n",
       "      <th>min</th>\n",
       "      <td>1.603111e+06</td>\n",
       "      <td>66.300000</td>\n",
       "      <td>0.000000</td>\n",
       "    </tr>\n",
       "    <tr>\n",
       "      <th>25%</th>\n",
       "      <td>1.603111e+06</td>\n",
       "      <td>93.600000</td>\n",
       "      <td>1.410000</td>\n",
       "    </tr>\n",
       "    <tr>\n",
       "      <th>50%</th>\n",
       "      <td>1.603222e+06</td>\n",
       "      <td>100.700000</td>\n",
       "      <td>1.980000</td>\n",
       "    </tr>\n",
       "    <tr>\n",
       "      <th>75%</th>\n",
       "      <td>1.603222e+06</td>\n",
       "      <td>107.200000</td>\n",
       "      <td>2.430000</td>\n",
       "    </tr>\n",
       "    <tr>\n",
       "      <th>max</th>\n",
       "      <td>1.603333e+06</td>\n",
       "      <td>137.700000</td>\n",
       "      <td>25.000000</td>\n",
       "    </tr>\n",
       "  </tbody>\n",
       "</table>\n",
       "</div>"
      ],
      "text/plain": [
       "       Wafer Coat Flux Lot  Wafer Coat Thickness Mean     % Bin 15\n",
       "count         1.213000e+03                1213.000000  1213.000000\n",
       "mean          1.603192e+06                 100.351855     2.056488\n",
       "std           5.386944e+01                  10.227836     1.911395\n",
       "min           1.603111e+06                  66.300000     0.000000\n",
       "25%           1.603111e+06                  93.600000     1.410000\n",
       "50%           1.603222e+06                 100.700000     1.980000\n",
       "75%           1.603222e+06                 107.200000     2.430000\n",
       "max           1.603333e+06                 137.700000    25.000000"
      ]
     },
     "execution_count": 304,
     "metadata": {},
     "output_type": "execute_result"
    }
   ],
   "source": [
    "train_df.describe()"
   ]
  },
  {
   "cell_type": "code",
   "execution_count": 305,
   "metadata": {},
   "outputs": [
    {
     "data": {
      "text/html": [
       "<div>\n",
       "<style scoped>\n",
       "    .dataframe tbody tr th:only-of-type {\n",
       "        vertical-align: middle;\n",
       "    }\n",
       "\n",
       "    .dataframe tbody tr th {\n",
       "        vertical-align: top;\n",
       "    }\n",
       "\n",
       "    .dataframe thead th {\n",
       "        text-align: right;\n",
       "    }\n",
       "</style>\n",
       "<table border=\"1\" class=\"dataframe\">\n",
       "  <thead>\n",
       "    <tr style=\"text-align: right;\">\n",
       "      <th></th>\n",
       "      <th>Supplier</th>\n",
       "      <th>% Bin 15</th>\n",
       "    </tr>\n",
       "  </thead>\n",
       "  <tbody>\n",
       "    <tr>\n",
       "      <th>1</th>\n",
       "      <td>Supp2</td>\n",
       "      <td>2.056436</td>\n",
       "    </tr>\n",
       "    <tr>\n",
       "      <th>0</th>\n",
       "      <td>Supp1</td>\n",
       "      <td>2.056540</td>\n",
       "    </tr>\n",
       "  </tbody>\n",
       "</table>\n",
       "</div>"
      ],
      "text/plain": [
       "  Supplier  % Bin 15\n",
       "1    Supp2  2.056436\n",
       "0    Supp1  2.056540"
      ]
     },
     "execution_count": 305,
     "metadata": {},
     "output_type": "execute_result"
    }
   ],
   "source": [
    "#Analyze by pivoting features\n",
    "train_df[['Supplier', '% Bin 15']].groupby(['Supplier'], as_index=False).mean().sort_values(by='Supplier', ascending=False)"
   ]
  },
  {
   "cell_type": "code",
   "execution_count": 306,
   "metadata": {},
   "outputs": [
    {
     "data": {
      "text/html": [
       "<div>\n",
       "<style scoped>\n",
       "    .dataframe tbody tr th:only-of-type {\n",
       "        vertical-align: middle;\n",
       "    }\n",
       "\n",
       "    .dataframe tbody tr th {\n",
       "        vertical-align: top;\n",
       "    }\n",
       "\n",
       "    .dataframe thead th {\n",
       "        text-align: right;\n",
       "    }\n",
       "</style>\n",
       "<table border=\"1\" class=\"dataframe\">\n",
       "  <thead>\n",
       "    <tr style=\"text-align: right;\">\n",
       "      <th></th>\n",
       "      <th>Fab Plant</th>\n",
       "      <th>% Bin 15</th>\n",
       "    </tr>\n",
       "  </thead>\n",
       "  <tbody>\n",
       "    <tr>\n",
       "      <th>2</th>\n",
       "      <td>Fab 3</td>\n",
       "      <td>2.165622</td>\n",
       "    </tr>\n",
       "    <tr>\n",
       "      <th>1</th>\n",
       "      <td>Fab 2</td>\n",
       "      <td>1.959000</td>\n",
       "    </tr>\n",
       "    <tr>\n",
       "      <th>0</th>\n",
       "      <td>Fab 1</td>\n",
       "      <td>1.812171</td>\n",
       "    </tr>\n",
       "  </tbody>\n",
       "</table>\n",
       "</div>"
      ],
      "text/plain": [
       "  Fab Plant  % Bin 15\n",
       "2     Fab 3  2.165622\n",
       "1     Fab 2  1.959000\n",
       "0     Fab 1  1.812171"
      ]
     },
     "execution_count": 306,
     "metadata": {},
     "output_type": "execute_result"
    }
   ],
   "source": [
    "train_df[['Fab Plant', '% Bin 15']].groupby(['Fab Plant'], as_index=False).mean().sort_values(by='Fab Plant', ascending=False)"
   ]
  },
  {
   "cell_type": "code",
   "execution_count": 307,
   "metadata": {},
   "outputs": [
    {
     "data": {
      "text/html": [
       "<div>\n",
       "<style scoped>\n",
       "    .dataframe tbody tr th:only-of-type {\n",
       "        vertical-align: middle;\n",
       "    }\n",
       "\n",
       "    .dataframe tbody tr th {\n",
       "        vertical-align: top;\n",
       "    }\n",
       "\n",
       "    .dataframe thead th {\n",
       "        text-align: right;\n",
       "    }\n",
       "</style>\n",
       "<table border=\"1\" class=\"dataframe\">\n",
       "  <thead>\n",
       "    <tr style=\"text-align: right;\">\n",
       "      <th></th>\n",
       "      <th>Wafer Coat Tool</th>\n",
       "      <th>% Bin 15</th>\n",
       "    </tr>\n",
       "  </thead>\n",
       "  <tbody>\n",
       "    <tr>\n",
       "      <th>2</th>\n",
       "      <td>WC 3</td>\n",
       "      <td>2.139598</td>\n",
       "    </tr>\n",
       "    <tr>\n",
       "      <th>1</th>\n",
       "      <td>WC 2</td>\n",
       "      <td>1.937173</td>\n",
       "    </tr>\n",
       "    <tr>\n",
       "      <th>0</th>\n",
       "      <td>WC 1</td>\n",
       "      <td>2.121552</td>\n",
       "    </tr>\n",
       "  </tbody>\n",
       "</table>\n",
       "</div>"
      ],
      "text/plain": [
       "  Wafer Coat Tool  % Bin 15\n",
       "2            WC 3  2.139598\n",
       "1            WC 2  1.937173\n",
       "0            WC 1  2.121552"
      ]
     },
     "execution_count": 307,
     "metadata": {},
     "output_type": "execute_result"
    }
   ],
   "source": [
    "train_df[['Wafer Coat Tool', '% Bin 15']].groupby(['Wafer Coat Tool'], as_index=False).mean().sort_values(by='Wafer Coat Tool', ascending=False)"
   ]
  },
  {
   "cell_type": "code",
   "execution_count": 308,
   "metadata": {},
   "outputs": [
    {
     "data": {
      "text/html": [
       "<div>\n",
       "<style scoped>\n",
       "    .dataframe tbody tr th:only-of-type {\n",
       "        vertical-align: middle;\n",
       "    }\n",
       "\n",
       "    .dataframe tbody tr th {\n",
       "        vertical-align: top;\n",
       "    }\n",
       "\n",
       "    .dataframe thead th {\n",
       "        text-align: right;\n",
       "    }\n",
       "</style>\n",
       "<table border=\"1\" class=\"dataframe\">\n",
       "  <thead>\n",
       "    <tr style=\"text-align: right;\">\n",
       "      <th></th>\n",
       "      <th>Wafer Coat Flux Lot</th>\n",
       "      <th>% Bin 15</th>\n",
       "    </tr>\n",
       "  </thead>\n",
       "  <tbody>\n",
       "    <tr>\n",
       "      <th>2</th>\n",
       "      <td>1603333</td>\n",
       "      <td>2.130000</td>\n",
       "    </tr>\n",
       "    <tr>\n",
       "      <th>1</th>\n",
       "      <td>1603222</td>\n",
       "      <td>2.086302</td>\n",
       "    </tr>\n",
       "    <tr>\n",
       "      <th>0</th>\n",
       "      <td>1603111</td>\n",
       "      <td>1.979368</td>\n",
       "    </tr>\n",
       "  </tbody>\n",
       "</table>\n",
       "</div>"
      ],
      "text/plain": [
       "   Wafer Coat Flux Lot  % Bin 15\n",
       "2              1603333  2.130000\n",
       "1              1603222  2.086302\n",
       "0              1603111  1.979368"
      ]
     },
     "execution_count": 308,
     "metadata": {},
     "output_type": "execute_result"
    }
   ],
   "source": [
    "train_df[['Wafer Coat Flux Lot', '% Bin 15']].groupby(['Wafer Coat Flux Lot'], as_index=False).mean().sort_values(by='Wafer Coat Flux Lot', ascending=False)"
   ]
  },
  {
   "cell_type": "code",
   "execution_count": 309,
   "metadata": {},
   "outputs": [
    {
     "data": {
      "text/html": [
       "<div>\n",
       "<style scoped>\n",
       "    .dataframe tbody tr th:only-of-type {\n",
       "        vertical-align: middle;\n",
       "    }\n",
       "\n",
       "    .dataframe tbody tr th {\n",
       "        vertical-align: top;\n",
       "    }\n",
       "\n",
       "    .dataframe thead th {\n",
       "        text-align: right;\n",
       "    }\n",
       "</style>\n",
       "<table border=\"1\" class=\"dataframe\">\n",
       "  <thead>\n",
       "    <tr style=\"text-align: right;\">\n",
       "      <th></th>\n",
       "      <th>Wafer Coat Thickness Mean</th>\n",
       "      <th>% Bin 15</th>\n",
       "    </tr>\n",
       "  </thead>\n",
       "  <tbody>\n",
       "    <tr>\n",
       "      <th>391</th>\n",
       "      <td>137.7</td>\n",
       "      <td>2.36</td>\n",
       "    </tr>\n",
       "    <tr>\n",
       "      <th>390</th>\n",
       "      <td>131.3</td>\n",
       "      <td>2.11</td>\n",
       "    </tr>\n",
       "    <tr>\n",
       "      <th>389</th>\n",
       "      <td>130.7</td>\n",
       "      <td>2.16</td>\n",
       "    </tr>\n",
       "    <tr>\n",
       "      <th>388</th>\n",
       "      <td>130.2</td>\n",
       "      <td>2.33</td>\n",
       "    </tr>\n",
       "    <tr>\n",
       "      <th>387</th>\n",
       "      <td>129.2</td>\n",
       "      <td>1.77</td>\n",
       "    </tr>\n",
       "    <tr>\n",
       "      <th>...</th>\n",
       "      <td>...</td>\n",
       "      <td>...</td>\n",
       "    </tr>\n",
       "    <tr>\n",
       "      <th>4</th>\n",
       "      <td>73.9</td>\n",
       "      <td>0.00</td>\n",
       "    </tr>\n",
       "    <tr>\n",
       "      <th>3</th>\n",
       "      <td>73.5</td>\n",
       "      <td>1.83</td>\n",
       "    </tr>\n",
       "    <tr>\n",
       "      <th>2</th>\n",
       "      <td>71.9</td>\n",
       "      <td>1.75</td>\n",
       "    </tr>\n",
       "    <tr>\n",
       "      <th>1</th>\n",
       "      <td>66.7</td>\n",
       "      <td>1.93</td>\n",
       "    </tr>\n",
       "    <tr>\n",
       "      <th>0</th>\n",
       "      <td>66.3</td>\n",
       "      <td>0.00</td>\n",
       "    </tr>\n",
       "  </tbody>\n",
       "</table>\n",
       "<p>392 rows × 2 columns</p>\n",
       "</div>"
      ],
      "text/plain": [
       "     Wafer Coat Thickness Mean  % Bin 15\n",
       "391                      137.7      2.36\n",
       "390                      131.3      2.11\n",
       "389                      130.7      2.16\n",
       "388                      130.2      2.33\n",
       "387                      129.2      1.77\n",
       "..                         ...       ...\n",
       "4                         73.9      0.00\n",
       "3                         73.5      1.83\n",
       "2                         71.9      1.75\n",
       "1                         66.7      1.93\n",
       "0                         66.3      0.00\n",
       "\n",
       "[392 rows x 2 columns]"
      ]
     },
     "execution_count": 309,
     "metadata": {},
     "output_type": "execute_result"
    }
   ],
   "source": [
    "train_df[['Wafer Coat Thickness Mean', '% Bin 15']].groupby(['Wafer Coat Thickness Mean'], as_index=False).mean().sort_values(by='Wafer Coat Thickness Mean', ascending=False)"
   ]
  },
  {
   "cell_type": "code",
   "execution_count": 310,
   "metadata": {},
   "outputs": [],
   "source": [
    "train_df['Status Bin15'] = 0"
   ]
  },
  {
   "cell_type": "code",
   "execution_count": 311,
   "metadata": {},
   "outputs": [
    {
     "data": {
      "text/html": [
       "<div>\n",
       "<style scoped>\n",
       "    .dataframe tbody tr th:only-of-type {\n",
       "        vertical-align: middle;\n",
       "    }\n",
       "\n",
       "    .dataframe tbody tr th {\n",
       "        vertical-align: top;\n",
       "    }\n",
       "\n",
       "    .dataframe thead th {\n",
       "        text-align: right;\n",
       "    }\n",
       "</style>\n",
       "<table border=\"1\" class=\"dataframe\">\n",
       "  <thead>\n",
       "    <tr style=\"text-align: right;\">\n",
       "      <th></th>\n",
       "      <th>Supplier</th>\n",
       "      <th>Fab Plant</th>\n",
       "      <th>Wafer Coat Tool</th>\n",
       "      <th>Wafer Coat Flux Lot</th>\n",
       "      <th>Wafer Coat Thickness Mean</th>\n",
       "      <th>% Bin 15</th>\n",
       "      <th>Status Bin15</th>\n",
       "    </tr>\n",
       "  </thead>\n",
       "  <tbody>\n",
       "    <tr>\n",
       "      <th>0</th>\n",
       "      <td>Supp1</td>\n",
       "      <td>Fab 3</td>\n",
       "      <td>WC 2</td>\n",
       "      <td>1603222</td>\n",
       "      <td>110.3</td>\n",
       "      <td>2.48</td>\n",
       "      <td>0</td>\n",
       "    </tr>\n",
       "    <tr>\n",
       "      <th>1</th>\n",
       "      <td>Supp1</td>\n",
       "      <td>Fab 3</td>\n",
       "      <td>WC 2</td>\n",
       "      <td>1603111</td>\n",
       "      <td>95.8</td>\n",
       "      <td>2.02</td>\n",
       "      <td>0</td>\n",
       "    </tr>\n",
       "    <tr>\n",
       "      <th>2</th>\n",
       "      <td>Supp1</td>\n",
       "      <td>Fab 3</td>\n",
       "      <td>WC 3</td>\n",
       "      <td>1603222</td>\n",
       "      <td>102.4</td>\n",
       "      <td>2.27</td>\n",
       "      <td>0</td>\n",
       "    </tr>\n",
       "    <tr>\n",
       "      <th>3</th>\n",
       "      <td>Supp1</td>\n",
       "      <td>Fab 3</td>\n",
       "      <td>WC 2</td>\n",
       "      <td>1603222</td>\n",
       "      <td>95.2</td>\n",
       "      <td>1.99</td>\n",
       "      <td>0</td>\n",
       "    </tr>\n",
       "    <tr>\n",
       "      <th>4</th>\n",
       "      <td>Supp1</td>\n",
       "      <td>Fab 3</td>\n",
       "      <td>WC 2</td>\n",
       "      <td>1603222</td>\n",
       "      <td>107.6</td>\n",
       "      <td>2.74</td>\n",
       "      <td>0</td>\n",
       "    </tr>\n",
       "  </tbody>\n",
       "</table>\n",
       "</div>"
      ],
      "text/plain": [
       "  Supplier Fab Plant Wafer Coat Tool  Wafer Coat Flux Lot  \\\n",
       "0    Supp1     Fab 3            WC 2              1603222   \n",
       "1    Supp1     Fab 3            WC 2              1603111   \n",
       "2    Supp1     Fab 3            WC 3              1603222   \n",
       "3    Supp1     Fab 3            WC 2              1603222   \n",
       "4    Supp1     Fab 3            WC 2              1603222   \n",
       "\n",
       "   Wafer Coat Thickness Mean  % Bin 15  Status Bin15  \n",
       "0                      110.3      2.48             0  \n",
       "1                       95.8      2.02             0  \n",
       "2                      102.4      2.27             0  \n",
       "3                       95.2      1.99             0  \n",
       "4                      107.6      2.74             0  "
      ]
     },
     "execution_count": 311,
     "metadata": {},
     "output_type": "execute_result"
    }
   ],
   "source": [
    "train_df.head()"
   ]
  },
  {
   "cell_type": "code",
   "execution_count": 312,
   "metadata": {},
   "outputs": [
    {
     "data": {
      "text/html": [
       "<div>\n",
       "<style scoped>\n",
       "    .dataframe tbody tr th:only-of-type {\n",
       "        vertical-align: middle;\n",
       "    }\n",
       "\n",
       "    .dataframe tbody tr th {\n",
       "        vertical-align: top;\n",
       "    }\n",
       "\n",
       "    .dataframe thead th {\n",
       "        text-align: right;\n",
       "    }\n",
       "</style>\n",
       "<table border=\"1\" class=\"dataframe\">\n",
       "  <thead>\n",
       "    <tr style=\"text-align: right;\">\n",
       "      <th></th>\n",
       "      <th>Supplier</th>\n",
       "      <th>Fab Plant</th>\n",
       "      <th>Wafer Coat Tool</th>\n",
       "      <th>Wafer Coat Flux Lot</th>\n",
       "      <th>Wafer Coat Thickness Mean</th>\n",
       "      <th>% Bin 15</th>\n",
       "      <th>Status Bin15</th>\n",
       "    </tr>\n",
       "  </thead>\n",
       "  <tbody>\n",
       "    <tr>\n",
       "      <th>0</th>\n",
       "      <td>Supp1</td>\n",
       "      <td>Fab 3</td>\n",
       "      <td>WC 2</td>\n",
       "      <td>1603222</td>\n",
       "      <td>110.3</td>\n",
       "      <td>2.48</td>\n",
       "      <td>Bad</td>\n",
       "    </tr>\n",
       "    <tr>\n",
       "      <th>1</th>\n",
       "      <td>Supp1</td>\n",
       "      <td>Fab 3</td>\n",
       "      <td>WC 2</td>\n",
       "      <td>1603111</td>\n",
       "      <td>95.8</td>\n",
       "      <td>2.02</td>\n",
       "      <td>Bad</td>\n",
       "    </tr>\n",
       "    <tr>\n",
       "      <th>2</th>\n",
       "      <td>Supp1</td>\n",
       "      <td>Fab 3</td>\n",
       "      <td>WC 3</td>\n",
       "      <td>1603222</td>\n",
       "      <td>102.4</td>\n",
       "      <td>2.27</td>\n",
       "      <td>Bad</td>\n",
       "    </tr>\n",
       "    <tr>\n",
       "      <th>3</th>\n",
       "      <td>Supp1</td>\n",
       "      <td>Fab 3</td>\n",
       "      <td>WC 2</td>\n",
       "      <td>1603222</td>\n",
       "      <td>95.2</td>\n",
       "      <td>1.99</td>\n",
       "      <td>Good</td>\n",
       "    </tr>\n",
       "    <tr>\n",
       "      <th>4</th>\n",
       "      <td>Supp1</td>\n",
       "      <td>Fab 3</td>\n",
       "      <td>WC 2</td>\n",
       "      <td>1603222</td>\n",
       "      <td>107.6</td>\n",
       "      <td>2.74</td>\n",
       "      <td>Bad</td>\n",
       "    </tr>\n",
       "  </tbody>\n",
       "</table>\n",
       "</div>"
      ],
      "text/plain": [
       "  Supplier Fab Plant Wafer Coat Tool  Wafer Coat Flux Lot  \\\n",
       "0    Supp1     Fab 3            WC 2              1603222   \n",
       "1    Supp1     Fab 3            WC 2              1603111   \n",
       "2    Supp1     Fab 3            WC 3              1603222   \n",
       "3    Supp1     Fab 3            WC 2              1603222   \n",
       "4    Supp1     Fab 3            WC 2              1603222   \n",
       "\n",
       "   Wafer Coat Thickness Mean  % Bin 15 Status Bin15  \n",
       "0                      110.3      2.48          Bad  \n",
       "1                       95.8      2.02          Bad  \n",
       "2                      102.4      2.27          Bad  \n",
       "3                       95.2      1.99         Good  \n",
       "4                      107.6      2.74          Bad  "
      ]
     },
     "execution_count": 312,
     "metadata": {},
     "output_type": "execute_result"
    }
   ],
   "source": [
    "def addValue(row):\n",
    "    if row['% Bin 15'] >= 2.0:\n",
    "       return 'Bad'\n",
    "    else:\n",
    "        return 'Good'\n",
    "\n",
    "train_df['Status Bin15'] = train_df.apply(addValue, axis=1)\n",
    "train_df.head()"
   ]
  },
  {
   "cell_type": "code",
   "execution_count": 313,
   "metadata": {},
   "outputs": [
    {
     "data": {
      "text/plain": [
       "<seaborn.axisgrid.FacetGrid at 0x1334281d0>"
      ]
     },
     "execution_count": 313,
     "metadata": {},
     "output_type": "execute_result"
    },
    {
     "data": {
      "image/png": "[encoded data removed]",
      "text/plain": [
       "<Figure size 600x300 with 2 Axes>"
      ]
     },
     "metadata": {},
     "output_type": "display_data"
    }
   ],
   "source": [
    "g =  sns.FacetGrid(train_df, col='Status Bin15')\n",
    "g.map(plt.hist, 'Wafer Coat Tool', bins=20)"
   ]
  },
  {
   "cell_type": "code",
   "execution_count": 314,
   "metadata": {},
   "outputs": [
    {
     "data": {
      "text/plain": [
       "<seaborn.axisgrid.FacetGrid at 0x132fb1f70>"
      ]
     },
     "execution_count": 314,
     "metadata": {},
     "output_type": "execute_result"
    },
    {
     "data": {
      "image/png": "[encoded data removed]",
      "text/plain": [
       "<Figure size 600x300 with 2 Axes>"
      ]
     },
     "metadata": {},
     "output_type": "display_data"
    }
   ],
   "source": [
    "g =  sns.FacetGrid(train_df, col='Status Bin15')\n",
    "g.map(plt.hist, 'Supplier', bins=20)"
   ]
  },
  {
   "cell_type": "code",
   "execution_count": 315,
   "metadata": {},
   "outputs": [
    {
     "data": {
      "text/plain": [
       "<seaborn.axisgrid.FacetGrid at 0x132fb02f0>"
      ]
     },
     "execution_count": 315,
     "metadata": {},
     "output_type": "execute_result"
    },
    {
     "data": {
      "image/png": "[encoded data removed]",
      "text/plain": [
       "<Figure size 600x300 with 2 Axes>"
      ]
     },
     "metadata": {},
     "output_type": "display_data"
    }
   ],
   "source": [
    "g =  sns.FacetGrid(train_df, col='Status Bin15')\n",
    "g.map(plt.hist, 'Fab Plant', bins=20)"
   ]
  },
  {
   "cell_type": "code",
   "execution_count": 316,
   "metadata": {},
   "outputs": [
    {
     "data": {
      "text/plain": [
       "<seaborn.axisgrid.FacetGrid at 0x1335a55e0>"
      ]
     },
     "execution_count": 316,
     "metadata": {},
     "output_type": "execute_result"
    },
    {
     "data": {
      "image/png": "[encoded data removed]",
      "text/plain": [
       "<Figure size 600x300 with 2 Axes>"
      ]
     },
     "metadata": {},
     "output_type": "display_data"
    }
   ],
   "source": [
    "g =  sns.FacetGrid(train_df, col='Status Bin15')\n",
    "g.map(plt.hist, 'Wafer Coat Thickness Mean', bins=20)"
   ]
  },
  {
   "cell_type": "code",
   "execution_count": 317,
   "metadata": {},
   "outputs": [
    {
     "data": {
      "image/png": "[encoded data removed]",
      "text/plain": [
       "<Figure size 640x480 with 1 Axes>"
      ]
     },
     "metadata": {},
     "output_type": "display_data"
    }
   ],
   "source": [
    "sns.boxplot(x='Status Bin15', y='Wafer Coat Thickness Mean', data=train_df)\n",
    "plt.title('Boxplot of Wafer Coat Thickness Mean by Status Bin15')\n",
    "plt.show()"
   ]
  },
  {
   "cell_type": "code",
   "execution_count": 318,
   "metadata": {},
   "outputs": [
    {
     "name": "stderr",
     "output_type": "stream",
     "text": [
      "/var/folders/p3/hbxtvs2d07v46tknxn0djmf80000gn/T/ipykernel_18681/2993421974.py:1: FutureWarning: \n",
      "\n",
      "Passing `palette` without assigning `hue` is deprecated and will be removed in v0.14.0. Assign the `x` variable to `hue` and set `legend=False` for the same effect.\n",
      "\n",
      "  sns.countplot(x='Status Bin15', data=train_df, palette='Set2')\n"
     ]
    },
    {
     "data": {
      "image/png": "[encoded data removed]",
      "text/plain": [
       "<Figure size 640x480 with 1 Axes>"
      ]
     },
     "metadata": {},
     "output_type": "display_data"
    }
   ],
   "source": [
    "sns.countplot(x='Status Bin15', data=train_df, palette='Set2')\n",
    "plt.title('Count of Status Bin15')\n",
    "plt.show()"
   ]
  },
  {
   "cell_type": "code",
   "execution_count": 319,
   "metadata": {},
   "outputs": [],
   "source": [
    "train_df = train_df.drop(\"Status Bin15\", axis=1)"
   ]
  },
  {
   "cell_type": "code",
   "execution_count": 320,
   "metadata": {},
   "outputs": [
    {
     "data": {
      "text/html": [
       "<div>\n",
       "<style scoped>\n",
       "    .dataframe tbody tr th:only-of-type {\n",
       "        vertical-align: middle;\n",
       "    }\n",
       "\n",
       "    .dataframe tbody tr th {\n",
       "        vertical-align: top;\n",
       "    }\n",
       "\n",
       "    .dataframe thead th {\n",
       "        text-align: right;\n",
       "    }\n",
       "</style>\n",
       "<table border=\"1\" class=\"dataframe\">\n",
       "  <thead>\n",
       "    <tr style=\"text-align: right;\">\n",
       "      <th></th>\n",
       "      <th>Supplier</th>\n",
       "      <th>Fab Plant</th>\n",
       "      <th>Wafer Coat Tool</th>\n",
       "      <th>Wafer Coat Flux Lot</th>\n",
       "      <th>Wafer Coat Thickness Mean</th>\n",
       "      <th>% Bin 15</th>\n",
       "    </tr>\n",
       "  </thead>\n",
       "  <tbody>\n",
       "    <tr>\n",
       "      <th>0</th>\n",
       "      <td>Supp1</td>\n",
       "      <td>Fab 3</td>\n",
       "      <td>WC 2</td>\n",
       "      <td>1603222</td>\n",
       "      <td>110.3</td>\n",
       "      <td>2.48</td>\n",
       "    </tr>\n",
       "    <tr>\n",
       "      <th>1</th>\n",
       "      <td>Supp1</td>\n",
       "      <td>Fab 3</td>\n",
       "      <td>WC 2</td>\n",
       "      <td>1603111</td>\n",
       "      <td>95.8</td>\n",
       "      <td>2.02</td>\n",
       "    </tr>\n",
       "    <tr>\n",
       "      <th>2</th>\n",
       "      <td>Supp1</td>\n",
       "      <td>Fab 3</td>\n",
       "      <td>WC 3</td>\n",
       "      <td>1603222</td>\n",
       "      <td>102.4</td>\n",
       "      <td>2.27</td>\n",
       "    </tr>\n",
       "    <tr>\n",
       "      <th>3</th>\n",
       "      <td>Supp1</td>\n",
       "      <td>Fab 3</td>\n",
       "      <td>WC 2</td>\n",
       "      <td>1603222</td>\n",
       "      <td>95.2</td>\n",
       "      <td>1.99</td>\n",
       "    </tr>\n",
       "    <tr>\n",
       "      <th>4</th>\n",
       "      <td>Supp1</td>\n",
       "      <td>Fab 3</td>\n",
       "      <td>WC 2</td>\n",
       "      <td>1603222</td>\n",
       "      <td>107.6</td>\n",
       "      <td>2.74</td>\n",
       "    </tr>\n",
       "  </tbody>\n",
       "</table>\n",
       "</div>"
      ],
      "text/plain": [
       "  Supplier Fab Plant Wafer Coat Tool  Wafer Coat Flux Lot  \\\n",
       "0    Supp1     Fab 3            WC 2              1603222   \n",
       "1    Supp1     Fab 3            WC 2              1603111   \n",
       "2    Supp1     Fab 3            WC 3              1603222   \n",
       "3    Supp1     Fab 3            WC 2              1603222   \n",
       "4    Supp1     Fab 3            WC 2              1603222   \n",
       "\n",
       "   Wafer Coat Thickness Mean  % Bin 15  \n",
       "0                      110.3      2.48  \n",
       "1                       95.8      2.02  \n",
       "2                      102.4      2.27  \n",
       "3                       95.2      1.99  \n",
       "4                      107.6      2.74  "
      ]
     },
     "execution_count": 320,
     "metadata": {},
     "output_type": "execute_result"
    }
   ],
   "source": [
    "train_df.head()"
   ]
  },
  {
   "cell_type": "code",
   "execution_count": 321,
   "metadata": {},
   "outputs": [
    {
     "data": {
      "text/plain": [
       "array([0, 1])"
      ]
     },
     "execution_count": 321,
     "metadata": {},
     "output_type": "execute_result"
    }
   ],
   "source": [
    "#Create label encoder for String value\n",
    "from sklearn.preprocessing import LabelEncoder\n",
    "le_supplier = LabelEncoder()\n",
    "train_df['Supplier'] = le_supplier.fit_transform(train_df['Supplier'])\n",
    "train_df['Supplier'].unique()"
   ]
  },
  {
   "cell_type": "code",
   "execution_count": 322,
   "metadata": {},
   "outputs": [
    {
     "data": {
      "text/plain": [
       "array([2, 1, 0])"
      ]
     },
     "execution_count": 322,
     "metadata": {},
     "output_type": "execute_result"
    }
   ],
   "source": [
    "le_fabPlant = LabelEncoder()\n",
    "train_df['Fab Plant'] = le_fabPlant.fit_transform(train_df['Fab Plant'])\n",
    "train_df['Fab Plant'].unique()"
   ]
  },
  {
   "cell_type": "code",
   "execution_count": 323,
   "metadata": {},
   "outputs": [
    {
     "data": {
      "text/plain": [
       "array([1, 2, 0])"
      ]
     },
     "execution_count": 323,
     "metadata": {},
     "output_type": "execute_result"
    }
   ],
   "source": [
    "le_WaferCoatTool = LabelEncoder()\n",
    "train_df['Wafer Coat Tool'] = le_WaferCoatTool.fit_transform(train_df['Wafer Coat Tool'])\n",
    "train_df['Wafer Coat Tool'].unique()"
   ]
  },
  {
   "cell_type": "code",
   "execution_count": 324,
   "metadata": {},
   "outputs": [
    {
     "data": {
      "text/plain": [
       "array([1, 0, 2])"
      ]
     },
     "execution_count": 324,
     "metadata": {},
     "output_type": "execute_result"
    }
   ],
   "source": [
    "le_WaferLot = LabelEncoder()\n",
    "train_df['Wafer Coat Flux Lot'] = le_WaferLot.fit_transform(train_df['Wafer Coat Flux Lot'])\n",
    "train_df['Wafer Coat Flux Lot'].unique()"
   ]
  },
  {
   "cell_type": "code",
   "execution_count": 325,
   "metadata": {},
   "outputs": [
    {
     "data": {
      "text/html": [
       "<div>\n",
       "<style scoped>\n",
       "    .dataframe tbody tr th:only-of-type {\n",
       "        vertical-align: middle;\n",
       "    }\n",
       "\n",
       "    .dataframe tbody tr th {\n",
       "        vertical-align: top;\n",
       "    }\n",
       "\n",
       "    .dataframe thead th {\n",
       "        text-align: right;\n",
       "    }\n",
       "</style>\n",
       "<table border=\"1\" class=\"dataframe\">\n",
       "  <thead>\n",
       "    <tr style=\"text-align: right;\">\n",
       "      <th></th>\n",
       "      <th>Supplier</th>\n",
       "      <th>Fab Plant</th>\n",
       "      <th>Wafer Coat Tool</th>\n",
       "      <th>Wafer Coat Flux Lot</th>\n",
       "      <th>Wafer Coat Thickness Mean</th>\n",
       "      <th>% Bin 15</th>\n",
       "    </tr>\n",
       "  </thead>\n",
       "  <tbody>\n",
       "    <tr>\n",
       "      <th>0</th>\n",
       "      <td>0</td>\n",
       "      <td>2</td>\n",
       "      <td>1</td>\n",
       "      <td>1</td>\n",
       "      <td>110.3</td>\n",
       "      <td>2.48</td>\n",
       "    </tr>\n",
       "    <tr>\n",
       "      <th>1</th>\n",
       "      <td>0</td>\n",
       "      <td>2</td>\n",
       "      <td>1</td>\n",
       "      <td>0</td>\n",
       "      <td>95.8</td>\n",
       "      <td>2.02</td>\n",
       "    </tr>\n",
       "    <tr>\n",
       "      <th>2</th>\n",
       "      <td>0</td>\n",
       "      <td>2</td>\n",
       "      <td>2</td>\n",
       "      <td>1</td>\n",
       "      <td>102.4</td>\n",
       "      <td>2.27</td>\n",
       "    </tr>\n",
       "    <tr>\n",
       "      <th>3</th>\n",
       "      <td>0</td>\n",
       "      <td>2</td>\n",
       "      <td>1</td>\n",
       "      <td>1</td>\n",
       "      <td>95.2</td>\n",
       "      <td>1.99</td>\n",
       "    </tr>\n",
       "    <tr>\n",
       "      <th>4</th>\n",
       "      <td>0</td>\n",
       "      <td>2</td>\n",
       "      <td>1</td>\n",
       "      <td>1</td>\n",
       "      <td>107.6</td>\n",
       "      <td>2.74</td>\n",
       "    </tr>\n",
       "  </tbody>\n",
       "</table>\n",
       "</div>"
      ],
      "text/plain": [
       "   Supplier  Fab Plant  Wafer Coat Tool  Wafer Coat Flux Lot  \\\n",
       "0         0          2                1                    1   \n",
       "1         0          2                1                    0   \n",
       "2         0          2                2                    1   \n",
       "3         0          2                1                    1   \n",
       "4         0          2                1                    1   \n",
       "\n",
       "   Wafer Coat Thickness Mean  % Bin 15  \n",
       "0                      110.3      2.48  \n",
       "1                       95.8      2.02  \n",
       "2                      102.4      2.27  \n",
       "3                       95.2      1.99  \n",
       "4                      107.6      2.74  "
      ]
     },
     "execution_count": 325,
     "metadata": {},
     "output_type": "execute_result"
    }
   ],
   "source": [
    "train_df.head()"
   ]
  },
  {
   "cell_type": "code",
   "execution_count": 326,
   "metadata": {},
   "outputs": [
    {
     "data": {
      "text/plain": [
       "array([2, 1, 0])"
      ]
     },
     "execution_count": 326,
     "metadata": {},
     "output_type": "execute_result"
    }
   ],
   "source": [
    "le_supplier = LabelEncoder()\n",
    "test_df['Supplier'] = le_supplier.fit_transform(test_df['Supplier'])\n",
    "test_df['Supplier'].unique()\n",
    "\n",
    "le_WaferCoatTool = LabelEncoder()\n",
    "test_df['Wafer Coat Tool'] = le_WaferCoatTool.fit_transform(test_df['Wafer Coat Tool'])\n",
    "test_df['Wafer Coat Tool'].unique()\n",
    "\n",
    "le_WaferLot = LabelEncoder()\n",
    "test_df['Wafer Coat Flux Lot'] = le_WaferLot.fit_transform(test_df['Wafer Coat Flux Lot'])\n",
    "test_df['Wafer Coat Flux Lot'].unique()\n",
    "\n",
    "le_fabPlant = LabelEncoder()\n",
    "test_df['Fab Plant'] = le_fabPlant.fit_transform(test_df['Fab Plant'])\n",
    "test_df['Fab Plant'].unique()"
   ]
  },
  {
   "cell_type": "code",
   "execution_count": 327,
   "metadata": {},
   "outputs": [
    {
     "data": {
      "text/html": [
       "<div>\n",
       "<style scoped>\n",
       "    .dataframe tbody tr th:only-of-type {\n",
       "        vertical-align: middle;\n",
       "    }\n",
       "\n",
       "    .dataframe tbody tr th {\n",
       "        vertical-align: top;\n",
       "    }\n",
       "\n",
       "    .dataframe thead th {\n",
       "        text-align: right;\n",
       "    }\n",
       "</style>\n",
       "<table border=\"1\" class=\"dataframe\">\n",
       "  <thead>\n",
       "    <tr style=\"text-align: right;\">\n",
       "      <th></th>\n",
       "      <th>Supplier</th>\n",
       "      <th>Fab Plant</th>\n",
       "      <th>Wafer Coat Tool</th>\n",
       "      <th>Wafer Coat Flux Lot</th>\n",
       "      <th>Wafer Coat Thickness Mean</th>\n",
       "      <th>% Bin 15</th>\n",
       "    </tr>\n",
       "  </thead>\n",
       "  <tbody>\n",
       "    <tr>\n",
       "      <th>0</th>\n",
       "      <td>0</td>\n",
       "      <td>2</td>\n",
       "      <td>0</td>\n",
       "      <td>1</td>\n",
       "      <td>119.2</td>\n",
       "      <td>2.71</td>\n",
       "    </tr>\n",
       "    <tr>\n",
       "      <th>1</th>\n",
       "      <td>0</td>\n",
       "      <td>2</td>\n",
       "      <td>0</td>\n",
       "      <td>1</td>\n",
       "      <td>101.3</td>\n",
       "      <td>2.17</td>\n",
       "    </tr>\n",
       "    <tr>\n",
       "      <th>2</th>\n",
       "      <td>0</td>\n",
       "      <td>2</td>\n",
       "      <td>1</td>\n",
       "      <td>1</td>\n",
       "      <td>104.3</td>\n",
       "      <td>2.29</td>\n",
       "    </tr>\n",
       "    <tr>\n",
       "      <th>3</th>\n",
       "      <td>0</td>\n",
       "      <td>2</td>\n",
       "      <td>1</td>\n",
       "      <td>0</td>\n",
       "      <td>107.3</td>\n",
       "      <td>2.28</td>\n",
       "    </tr>\n",
       "    <tr>\n",
       "      <th>4</th>\n",
       "      <td>0</td>\n",
       "      <td>2</td>\n",
       "      <td>1</td>\n",
       "      <td>1</td>\n",
       "      <td>106.1</td>\n",
       "      <td>2.56</td>\n",
       "    </tr>\n",
       "  </tbody>\n",
       "</table>\n",
       "</div>"
      ],
      "text/plain": [
       "   Supplier  Fab Plant  Wafer Coat Tool  Wafer Coat Flux Lot  \\\n",
       "0         0          2                0                    1   \n",
       "1         0          2                0                    1   \n",
       "2         0          2                1                    1   \n",
       "3         0          2                1                    0   \n",
       "4         0          2                1                    1   \n",
       "\n",
       "   Wafer Coat Thickness Mean  % Bin 15  \n",
       "0                      119.2      2.71  \n",
       "1                      101.3      2.17  \n",
       "2                      104.3      2.29  \n",
       "3                      107.3      2.28  \n",
       "4                      106.1      2.56  "
      ]
     },
     "execution_count": 327,
     "metadata": {},
     "output_type": "execute_result"
    }
   ],
   "source": [
    "test_df.head()"
   ]
  },
  {
   "cell_type": "code",
   "execution_count": 328,
   "metadata": {},
   "outputs": [
    {
     "data": {
      "text/plain": [
       "((1213, 5), (1213,), (523, 5))"
      ]
     },
     "execution_count": 328,
     "metadata": {},
     "output_type": "execute_result"
    }
   ],
   "source": [
    "# Model, predict and solve\n",
    "X_train = train_df.drop(\"% Bin 15\", axis=1)\n",
    "Y_train = train_df[\"% Bin 15\"]\n",
    "X_test = test_df.drop(\"% Bin 15\", axis=1).copy()\n",
    "X_train.shape, Y_train.shape, X_test.shape"
   ]
  },
  {
   "cell_type": "code",
   "execution_count": 329,
   "metadata": {},
   "outputs": [
    {
     "data": {
      "text/html": [
       "<div>\n",
       "<style scoped>\n",
       "    .dataframe tbody tr th:only-of-type {\n",
       "        vertical-align: middle;\n",
       "    }\n",
       "\n",
       "    .dataframe tbody tr th {\n",
       "        vertical-align: top;\n",
       "    }\n",
       "\n",
       "    .dataframe thead th {\n",
       "        text-align: right;\n",
       "    }\n",
       "</style>\n",
       "<table border=\"1\" class=\"dataframe\">\n",
       "  <thead>\n",
       "    <tr style=\"text-align: right;\">\n",
       "      <th></th>\n",
       "      <th>Supplier</th>\n",
       "      <th>Fab Plant</th>\n",
       "      <th>Wafer Coat Tool</th>\n",
       "      <th>Wafer Coat Flux Lot</th>\n",
       "      <th>Wafer Coat Thickness Mean</th>\n",
       "      <th>% Bin 15</th>\n",
       "    </tr>\n",
       "  </thead>\n",
       "  <tbody>\n",
       "    <tr>\n",
       "      <th>0</th>\n",
       "      <td>0</td>\n",
       "      <td>2</td>\n",
       "      <td>0</td>\n",
       "      <td>1</td>\n",
       "      <td>119.2</td>\n",
       "      <td>2.71</td>\n",
       "    </tr>\n",
       "    <tr>\n",
       "      <th>1</th>\n",
       "      <td>0</td>\n",
       "      <td>2</td>\n",
       "      <td>0</td>\n",
       "      <td>1</td>\n",
       "      <td>101.3</td>\n",
       "      <td>2.17</td>\n",
       "    </tr>\n",
       "    <tr>\n",
       "      <th>2</th>\n",
       "      <td>0</td>\n",
       "      <td>2</td>\n",
       "      <td>1</td>\n",
       "      <td>1</td>\n",
       "      <td>104.3</td>\n",
       "      <td>2.29</td>\n",
       "    </tr>\n",
       "    <tr>\n",
       "      <th>3</th>\n",
       "      <td>0</td>\n",
       "      <td>2</td>\n",
       "      <td>1</td>\n",
       "      <td>0</td>\n",
       "      <td>107.3</td>\n",
       "      <td>2.28</td>\n",
       "    </tr>\n",
       "    <tr>\n",
       "      <th>4</th>\n",
       "      <td>0</td>\n",
       "      <td>2</td>\n",
       "      <td>1</td>\n",
       "      <td>1</td>\n",
       "      <td>106.1</td>\n",
       "      <td>2.56</td>\n",
       "    </tr>\n",
       "  </tbody>\n",
       "</table>\n",
       "</div>"
      ],
      "text/plain": [
       "   Supplier  Fab Plant  Wafer Coat Tool  Wafer Coat Flux Lot  \\\n",
       "0         0          2                0                    1   \n",
       "1         0          2                0                    1   \n",
       "2         0          2                1                    1   \n",
       "3         0          2                1                    0   \n",
       "4         0          2                1                    1   \n",
       "\n",
       "   Wafer Coat Thickness Mean  % Bin 15  \n",
       "0                      119.2      2.71  \n",
       "1                      101.3      2.17  \n",
       "2                      104.3      2.29  \n",
       "3                      107.3      2.28  \n",
       "4                      106.1      2.56  "
      ]
     },
     "execution_count": 329,
     "metadata": {},
     "output_type": "execute_result"
    }
   ],
   "source": [
    "test_df.head()"
   ]
  },
  {
   "cell_type": "code",
   "execution_count": 330,
   "metadata": {},
   "outputs": [
    {
     "data": {
      "text/plain": [
       "0.7"
      ]
     },
     "execution_count": 330,
     "metadata": {},
     "output_type": "execute_result"
    }
   ],
   "source": [
    "#Linear Regression\n",
    "from sklearn.linear_model import LinearRegression\n",
    "from sklearn.metrics import mean_squared_error, mean_absolute_error, r2_score\n",
    "linear_reg = LinearRegression()\n",
    "linear_reg.fit(X_train, Y_train)\n",
    "Y_pred = linear_reg.predict(X_test)\n",
    "lr = round(linear_reg.score(X_train, Y_train) * 100, 2)\n",
    "lr"
   ]
  },
  {
   "cell_type": "code",
   "execution_count": 331,
   "metadata": {},
   "outputs": [
    {
     "data": {
      "text/plain": [
       "95.37"
      ]
     },
     "execution_count": 331,
     "metadata": {},
     "output_type": "execute_result"
    }
   ],
   "source": [
    "#Decision Tree Regressor\n",
    "from sklearn.tree import DecisionTreeRegressor\n",
    "dec_tree_reg = DecisionTreeRegressor(random_state = 0)\n",
    "dec_tree_reg.fit(X_train, Y_train)\n",
    "Y_pred = dec_tree_reg.predict(X_test)\n",
    "dtr = round(dec_tree_reg.score(X_train, Y_train) * 100, 2)\n",
    "dtr"
   ]
  },
  {
   "cell_type": "code",
   "execution_count": 332,
   "metadata": {},
   "outputs": [
    {
     "data": {
      "text/plain": [
       "79.46"
      ]
     },
     "execution_count": 332,
     "metadata": {},
     "output_type": "execute_result"
    }
   ],
   "source": [
    "#Random Forest Regressor\n",
    "from sklearn.ensemble import RandomForestRegressor\n",
    "random_forest_reg = RandomForestRegressor(random_state=0)\n",
    "random_forest_reg.fit(X_train, Y_train)\n",
    "Y_pred = random_forest_reg.predict(X_test)\n",
    "rfr = round(random_forest_reg.score(X_train, Y_train) * 100, 2)\n",
    "rfr"
   ]
  },
  {
   "cell_type": "code",
   "execution_count": 333,
   "metadata": {},
   "outputs": [
    {
     "data": {
      "text/plain": [
       "2.22"
      ]
     },
     "execution_count": 333,
     "metadata": {},
     "output_type": "execute_result"
    }
   ],
   "source": [
    "#Grid Search CV\n",
    "from sklearn.model_selection import GridSearchCV\n",
    "\n",
    "max_depth = [None, 2,4,6,8,10,12]\n",
    "parameters = {\"max_depth\":max_depth}\n",
    "\n",
    "regressor = DecisionTreeRegressor(random_state=0)\n",
    "gs = GridSearchCV(regressor, parameters, scoring='neg_mean_squared_error')\n",
    "gs.fit(X_train, Y_train)\n",
    "regressor = gs.best_estimator_\n",
    "regressor.fit(X_train, Y_train)\n",
    "Y_pred_pred = regressor.predict(X_test)\n",
    "gscv = round(regressor.score(X_train, Y_train) * 100, 2)\n",
    "gscv"
   ]
  },
  {
   "cell_type": "code",
   "execution_count": 334,
   "metadata": {},
   "outputs": [
    {
     "data": {
      "text/html": [
       "<div>\n",
       "<style scoped>\n",
       "    .dataframe tbody tr th:only-of-type {\n",
       "        vertical-align: middle;\n",
       "    }\n",
       "\n",
       "    .dataframe tbody tr th {\n",
       "        vertical-align: top;\n",
       "    }\n",
       "\n",
       "    .dataframe thead th {\n",
       "        text-align: right;\n",
       "    }\n",
       "</style>\n",
       "<table border=\"1\" class=\"dataframe\">\n",
       "  <thead>\n",
       "    <tr style=\"text-align: right;\">\n",
       "      <th></th>\n",
       "      <th>Model</th>\n",
       "      <th>Score</th>\n",
       "    </tr>\n",
       "  </thead>\n",
       "  <tbody>\n",
       "    <tr>\n",
       "      <th>1</th>\n",
       "      <td>Decision Tree Regressor</td>\n",
       "      <td>95.37</td>\n",
       "    </tr>\n",
       "    <tr>\n",
       "      <th>2</th>\n",
       "      <td>Random Forest Regressor</td>\n",
       "      <td>79.46</td>\n",
       "    </tr>\n",
       "    <tr>\n",
       "      <th>3</th>\n",
       "      <td>Grid Search CV</td>\n",
       "      <td>2.22</td>\n",
       "    </tr>\n",
       "    <tr>\n",
       "      <th>0</th>\n",
       "      <td>Linear Regression</td>\n",
       "      <td>0.70</td>\n",
       "    </tr>\n",
       "  </tbody>\n",
       "</table>\n",
       "</div>"
      ],
      "text/plain": [
       "                     Model  Score\n",
       "1  Decision Tree Regressor  95.37\n",
       "2  Random Forest Regressor  79.46\n",
       "3           Grid Search CV   2.22\n",
       "0        Linear Regression   0.70"
      ]
     },
     "execution_count": 334,
     "metadata": {},
     "output_type": "execute_result"
    }
   ],
   "source": [
    "#Create table to display model confidence score\n",
    "\n",
    "models = pd.DataFrame({\n",
    "    'Model' : ['Linear Regression', 'Decision Tree Regressor', 'Random Forest Regressor',\n",
    "                'Grid Search CV'],\n",
    "    'Score' : [lr, dtr, rfr, gscv]})\n",
    "models.sort_values(by='Score', ascending = False)"
   ]
  },
  {
   "cell_type": "code",
   "execution_count": 335,
   "metadata": {},
   "outputs": [
    {
     "data": {
      "text/plain": [
       "array([['Supp2', 'Fab 3', 'WC 1', '1603222', '92']], dtype='<U21')"
      ]
     },
     "execution_count": 335,
     "metadata": {},
     "output_type": "execute_result"
    }
   ],
   "source": [
    "# Create for the apps\n",
    "X = np.arrayX = np.array([[\"Supp2\", \"Fab 3\", 'WC 1', '1603222', 92]])\n",
    "X"
   ]
  },
  {
   "cell_type": "code",
   "execution_count": 336,
   "metadata": {},
   "outputs": [
    {
     "data": {
      "text/plain": [
       "array([[ 1.,  2.,  0.,  1., 92.]])"
      ]
     },
     "execution_count": 336,
     "metadata": {},
     "output_type": "execute_result"
    }
   ],
   "source": [
    "X[:,0] = le_supplier.transform(X[:,0])\n",
    "X[:,1] = le_fabPlant.transform(X[:,1])\n",
    "X[:,2] = le_WaferCoatTool.transform(X[:,2])\n",
    "X[:,3] = le_WaferLot.transform(X[:,3])\n",
    "X = X.astype(float)\n",
    "X"
   ]
  },
  {
   "cell_type": "code",
   "execution_count": 337,
   "metadata": {},
   "outputs": [
    {
     "name": "stderr",
     "output_type": "stream",
     "text": [
      "/Library/Frameworks/Python.framework/Versions/3.12/lib/python3.12/site-packages/sklearn/base.py:493: UserWarning: X does not have valid feature names, but DecisionTreeRegressor was fitted with feature names\n",
      "  warnings.warn(\n"
     ]
    },
    {
     "data": {
      "text/plain": [
       "array([2.11])"
      ]
     },
     "execution_count": 337,
     "metadata": {},
     "output_type": "execute_result"
    }
   ],
   "source": [
    "Y_pred = dec_tree_reg.predict(X)\n",
    "Y_pred"
   ]
  },
  {
   "cell_type": "code",
   "execution_count": 338,
   "metadata": {},
   "outputs": [],
   "source": [
    "#Import model for build application\n",
    "import pickle\n",
    "data = {\"model\" : dec_tree_reg, \"le_supplier\" : le_supplier, \"le_fabPlant\" : le_fabPlant,\n",
    "\"le_WaferCoatTool\": le_WaferCoatTool, \"le_WaferLot\":le_WaferLot}\n",
    "with open('saved_steps.pkl', 'wb') as file:\n",
    "    pickle.dump(data,file)"
   ]
  },
  {
   "cell_type": "code",
   "execution_count": 339,
   "metadata": {},
   "outputs": [],
   "source": [
    "with open('saved_steps.pkl', 'rb') as file:\n",
    "    data = pickle.load(file)\n",
    "\n",
    "dec_tree_reg_loaded = data[\"model\"]\n",
    "le_supplier = data[\"le_supplier\"]\n",
    "le_fabPlant = data[\"le_fabPlant\"]\n",
    "le_WaferCoatTool = data[\"le_WaferCoatTool\"]\n",
    "le_WaferLot = data[\"le_WaferLot\"]"
   ]
  },
  {
   "cell_type": "code",
   "execution_count": 340,
   "metadata": {},
   "outputs": [
    {
     "name": "stderr",
     "output_type": "stream",
     "text": [
      "/Library/Frameworks/Python.framework/Versions/3.12/lib/python3.12/site-packages/sklearn/base.py:493: UserWarning: X does not have valid feature names, but DecisionTreeRegressor was fitted with feature names\n",
      "  warnings.warn(\n"
     ]
    },
    {
     "data": {
      "text/plain": [
       "array([2.11])"
      ]
     },
     "execution_count": 340,
     "metadata": {},
     "output_type": "execute_result"
    }
   ],
   "source": [
    "Y_pred = dec_tree_reg_loaded.predict(X)\n",
    "Y_pred"
   ]
  }
 ],
 "metadata": {
  "kernelspec": {
   "display_name": "Python 3",
   "language": "python",
   "name": "python3"
  },
  "language_info": {
   "codemirror_mode": {
    "name": "ipython",
    "version": 3
   },
   "file_extension": ".py",
   "mimetype": "text/x-python",
   "name": "python",
   "nbconvert_exporter": "python",
   "pygments_lexer": "ipython3",
   "version": "3.12.0"
  },
  "orig_nbformat": 4
 },
 "nbformat": 4,
 "nbformat_minor": 2
}
